{
 "cells": [
  {
   "cell_type": "markdown",
   "metadata": {},
   "source": [
    "Все 4-⁠буквенные слова, составленные из букв В, Л, Т, У, записаны в алфавитном порядке и пронумерованы.\n",
    "\n",
    "Вот начало списка:\n",
    "\n",
    "1.  ВВВВ\n",
    "\n",
    "2.  ВВВЛ\n",
    "\n",
    "3.  ВВВТ\n",
    "\n",
    "4.  ВВВУ\n",
    "\n",
    "...\n",
    "\n",
    " \n",
    "\n",
    "Запишите слово, которое стоит под номером 75."
   ]
  },
  {
   "cell_type": "code",
   "execution_count": null,
   "metadata": {},
   "outputs": [],
   "source": [
    "from itertools import *\n",
    "a = list(product('ВЛТУ', repeat = 4))\n",
    "k = 0\n",
    "for n in a:\n",
    "    k += 1\n",
    "    if k == 75:\n",
    "        print(n)"
   ]
  },
  {
   "cell_type": "markdown",
   "metadata": {},
   "source": [
    "Шифр кодового замка представляет собой последовательность из пяти символов, каждый из которых является цифрой от 1 до 4. Сколько различных вариантов шифра можно задать, если известно, что цифра 1 встречается ровно два раза, а каждая из других допустимых цифр может встречаться в шифре любое количество раз или не встречаться совсем?"
   ]
  },
  {
   "cell_type": "code",
   "execution_count": null,
   "metadata": {},
   "outputs": [],
   "source": [
    "from itertools import*\n",
    "k=0\n",
    "a = product('1234', repeat = 5)\n",
    "for n in a:\n",
    "    if n.count('1')==2:\n",
    "        k+=1\n",
    "print(k)\n",
    "    "
   ]
  },
  {
   "cell_type": "markdown",
   "metadata": {},
   "source": [
    "Михаил составляет 5-⁠буквенные коды. В кодах разрешается использовать только буквы А, Б, В, Г, Д, при этом код не может начинаться с гласной и не может содержать двух одинаковых букв подряд. Сколько различных кодов может составить Михаил?"
   ]
  },
  {
   "cell_type": "code",
   "execution_count": null,
   "metadata": {},
   "outputs": [],
   "source": [
    "from itertools import*\n",
    "k=0\n",
    "a = product('АБВГД', repeat = 5)\n",
    "for n in a:\n",
    "    v = ''.join(n)\n",
    "    if v[0]!='А' and 'АА' not in v and 'ББ' not in v and 'ВВ' not in v and 'ГГ' not in v and 'ДД' not in v:\n",
    "        k+=1\n",
    "print(k)\n",
    "\n",
    "def f(x):\n",
    "    for i in range(len(x)):\n",
    "        if x[i] != x[i+1]:"
   ]
  },
  {
   "cell_type": "markdown",
   "metadata": {},
   "source": [
    "Алиса составляет 6-⁠буквенные слова из букв М, А, Н, Г, У, С, Т. Каждая из букв может встречаться сколько угодно раз, причём первой буквой не может быть А, буква У должна встречаться не менее 1 раза. Также в записи должны быть ровно две буквы М.\n",
    "\n",
    "Сколько различных слов может составить Алиса?"
   ]
  },
  {
   "cell_type": "code",
   "execution_count": null,
   "metadata": {},
   "outputs": [],
   "source": []
  },
  {
   "cell_type": "markdown",
   "metadata": {},
   "source": [
    "Определите количество восьмизначных 15-⁠ричных чисел, в записи которых ровно два нуля и не более четырёх цифр, для записи которых используются буквы."
   ]
  },
  {
   "cell_type": "code",
   "execution_count": null,
   "metadata": {},
   "outputs": [],
   "source": []
  },
  {
   "cell_type": "markdown",
   "metadata": {},
   "source": [
    "Сколько существует различных четырёхзначных чисел, записанных в семеричной системе счисления, в записи которых цифры следуют слева направо в строго убывающем порядке?"
   ]
  },
  {
   "cell_type": "code",
   "execution_count": null,
   "metadata": {},
   "outputs": [],
   "source": []
  },
  {
   "cell_type": "markdown",
   "metadata": {},
   "source": [
    "Найдите количество пятизначных восьмеричных чисел, в которых все цифры различны и никакие две четные или нечетные не стоят рядом."
   ]
  },
  {
   "cell_type": "code",
   "execution_count": null,
   "metadata": {},
   "outputs": [],
   "source": []
  }
 ],
 "metadata": {
  "kernelspec": {
   "display_name": "Python 3",
   "language": "python",
   "name": "python3"
  },
  "language_info": {
   "codemirror_mode": {
    "name": "ipython",
    "version": 3
   },
   "file_extension": ".py",
   "mimetype": "text/x-python",
   "name": "python",
   "nbconvert_exporter": "python",
   "pygments_lexer": "ipython3",
   "version": "3.10.2"
  }
 },
 "nbformat": 4,
 "nbformat_minor": 2
}
